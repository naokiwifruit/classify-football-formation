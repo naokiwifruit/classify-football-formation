{
 "cells": [
  {
   "cell_type": "code",
   "execution_count": 1,
   "metadata": {},
   "outputs": [],
   "source": [
    "import numpy as np\n",
    "import pandas as pd\n",
    "import matplotlib.pyplot as plt"
   ]
  },
  {
   "cell_type": "code",
   "execution_count": 2,
   "metadata": {},
   "outputs": [],
   "source": [
    "# read the dataset and set the index\n",
    "columns = ['timestamp', 'tag_id', 'x_pos', 'y_pos', 'heading', 'direction', 'energy', 'speed', 'total_distance']\n",
    "data = pd.read_csv('../data/input/raw/tromso_stromsgodset_first.csv', names=columns)\n",
    "\n",
    "# convert timestamp to second\n",
    "data['timestamp'] = pd.to_datetime(data['timestamp'])\n",
    "data['timestamp'] = data['timestamp'] - data['timestamp'][0]\n",
    "data['timestamp'] = [time.total_seconds() for time in data['timestamp']]\n",
    "\n",
    "# make the list of player id\n",
    "player_ids = data['tag_id'].unique()\n",
    "\n",
    "# remove the entries of the goalkeeper and substitute players\n",
    "x_means = [] # a list of x-position mean for each player\n",
    "y_means = [] # a list of y-position mean for each player\n",
    "for player_id in player_ids:\n",
    "    x_means.append(data['x_pos'][data['tag_id']==player_id].mean())\n",
    "    y_means.append(data['y_pos'][data['tag_id']==player_id].mean())\n",
    "\n",
    "# remove the id of goalkeeper\n",
    "player_ids = np.delete(player_ids, np.argsort(x_means)[0]) # a goalkeeper has the lowest x-position mean\n",
    "# remove the ids of a substitute player\n",
    "player_ids = np.delete(player_ids, np.argsort(y_means)[-3:]) # substitute players have the highest y-position mean\n",
    "data = data[data['tag_id'].isin(player_ids)]"
   ]
  },
  {
   "cell_type": "code",
   "execution_count": 3,
   "metadata": {},
   "outputs": [],
   "source": [
    "timestamp_quarter = [time for time in data['timestamp'].unique() if time % 0.25 == 0]\n",
    "x_quarter = []\n",
    "y_quarter = []\n",
    "\n",
    "timestamp_new = []\n",
    "x_new = []\n",
    "y_new = []\n",
    "\n",
    "for time in timestamp_quarter:\n",
    "    x_quarter = []\n",
    "    y_quarter = []\n",
    "    for tag_id in data['tag_id'].unique():\n",
    "        x_quarter.append(data['x_pos'][(data['tag_id']==tag_id) & (time<=data['timestamp']) & (data['timestamp']<time+0.25)].mean())\n",
    "        y_quarter.append(data['y_pos'][(data['tag_id']==tag_id) & (time<=data['timestamp']) & (data['timestamp']<time+0.25)].mean())\n",
    "    if (np.nan not in x_quarter) and (np.nan not in y_quarter):\n",
    "        timestamp_new.append(time)\n",
    "        x_new.append(x_quarter)\n",
    "        y_new.append(y_quarter)"
   ]
  },
  {
   "cell_type": "code",
   "execution_count": 10,
   "metadata": {},
   "outputs": [],
   "source": [
    "new_data = pd.DataFrame({'timestamp' : sorted(timestamp_new*10), \n",
    "              'tag_id' : [i for i in data['tag_id'].unique()] * len(timestamp_new),\n",
    "              'x_pos' : [x_pos for sublist in x_new for x_pos in sublist],\n",
    "              'y_pos' : [y_pos for sublist in y_new for y_pos in sublist]})"
   ]
  },
  {
   "cell_type": "code",
   "execution_count": 11,
   "metadata": {},
   "outputs": [
    {
     "data": {
      "text/html": [
       "<div>\n",
       "<style scoped>\n",
       "    .dataframe tbody tr th:only-of-type {\n",
       "        vertical-align: middle;\n",
       "    }\n",
       "\n",
       "    .dataframe tbody tr th {\n",
       "        vertical-align: top;\n",
       "    }\n",
       "\n",
       "    .dataframe thead th {\n",
       "        text-align: right;\n",
       "    }\n",
       "</style>\n",
       "<table border=\"1\" class=\"dataframe\">\n",
       "  <thead>\n",
       "    <tr style=\"text-align: right;\">\n",
       "      <th></th>\n",
       "      <th>timestamp</th>\n",
       "      <th>tag_id</th>\n",
       "      <th>x_pos</th>\n",
       "      <th>y_pos</th>\n",
       "    </tr>\n",
       "  </thead>\n",
       "  <tbody>\n",
       "    <tr>\n",
       "      <th>0</th>\n",
       "      <td>0.0</td>\n",
       "      <td>2</td>\n",
       "      <td>26.645492</td>\n",
       "      <td>29.491699</td>\n",
       "    </tr>\n",
       "    <tr>\n",
       "      <th>1</th>\n",
       "      <td>0.0</td>\n",
       "      <td>5</td>\n",
       "      <td>35.539222</td>\n",
       "      <td>30.331989</td>\n",
       "    </tr>\n",
       "    <tr>\n",
       "      <th>2</th>\n",
       "      <td>0.0</td>\n",
       "      <td>7</td>\n",
       "      <td>41.557287</td>\n",
       "      <td>38.651601</td>\n",
       "    </tr>\n",
       "    <tr>\n",
       "      <th>3</th>\n",
       "      <td>0.0</td>\n",
       "      <td>8</td>\n",
       "      <td>28.566362</td>\n",
       "      <td>39.527918</td>\n",
       "    </tr>\n",
       "    <tr>\n",
       "      <th>4</th>\n",
       "      <td>0.0</td>\n",
       "      <td>9</td>\n",
       "      <td>32.253800</td>\n",
       "      <td>12.724300</td>\n",
       "    </tr>\n",
       "  </tbody>\n",
       "</table>\n",
       "</div>"
      ],
      "text/plain": [
       "   timestamp  tag_id      x_pos      y_pos\n",
       "0        0.0       2  26.645492  29.491699\n",
       "1        0.0       5  35.539222  30.331989\n",
       "2        0.0       7  41.557287  38.651601\n",
       "3        0.0       8  28.566362  39.527918\n",
       "4        0.0       9  32.253800  12.724300"
      ]
     },
     "execution_count": 11,
     "metadata": {},
     "output_type": "execute_result"
    }
   ],
   "source": [
    "new_data.head()"
   ]
  },
  {
   "cell_type": "code",
   "execution_count": 12,
   "metadata": {},
   "outputs": [],
   "source": [
    "new_data.to_csv('../data/input/processed/prepped_tromso_stromsgodset_first.csv', index=False)"
   ]
  },
  {
   "cell_type": "code",
   "execution_count": null,
   "metadata": {},
   "outputs": [],
   "source": []
  }
 ],
 "metadata": {
  "kernelspec": {
   "display_name": "Environment (conda_pytorch-gpu)",
   "language": "python",
   "name": "conda_pytorch-gpu"
  },
  "language_info": {
   "codemirror_mode": {
    "name": "ipython",
    "version": 3
   },
   "file_extension": ".py",
   "mimetype": "text/x-python",
   "name": "python",
   "nbconvert_exporter": "python",
   "pygments_lexer": "ipython3",
   "version": "3.7.5"
  }
 },
 "nbformat": 4,
 "nbformat_minor": 2
}
